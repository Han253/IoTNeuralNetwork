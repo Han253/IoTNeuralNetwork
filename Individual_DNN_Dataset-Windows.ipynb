{
 "cells": [
  {
   "cell_type": "code",
   "execution_count": 2,
   "metadata": {},
   "outputs": [
    {
     "name": "stderr",
     "output_type": "stream",
     "text": [
      "Using TensorFlow backend.\n"
     ]
    }
   ],
   "source": [
    "# Import Libraries\n",
    "import numpy as np\n",
    "import pandas as pd\n",
    "from keras.optimizers import *\n",
    "from keras.models import Sequential\n",
    "from keras.layers import Dense\n",
    "from keras.utils import to_categorical\n",
    "from sklearn.model_selection import StratifiedShuffleSplit\n",
    "import mnist"
   ]
  },
  {
   "cell_type": "code",
   "execution_count": 3,
   "metadata": {},
   "outputs": [],
   "source": [
    "#Dataset\n",
    "dataset = pd.read_csv('dataset/data_windows.csv').iloc[:,1:]"
   ]
  },
  {
   "cell_type": "code",
   "execution_count": 4,
   "metadata": {},
   "outputs": [
    {
     "data": {
      "text/plain": [
       "(7462, 529)"
      ]
     },
     "execution_count": 4,
     "metadata": {},
     "output_type": "execute_result"
    }
   ],
   "source": [
    "dataset.shape"
   ]
  },
  {
   "cell_type": "code",
   "execution_count": 8,
   "metadata": {},
   "outputs": [
    {
     "data": {
      "text/plain": [
       "466.375"
      ]
     },
     "execution_count": 8,
     "metadata": {},
     "output_type": "execute_result"
    }
   ],
   "source": [
    "7462/ (16)"
   ]
  },
  {
   "cell_type": "code",
   "execution_count": 139,
   "metadata": {},
   "outputs": [],
   "source": [
    "#Delete NAN values\n",
    "\"\"\"\n",
    "dataset_x = []\n",
    "dataset_y = []\n",
    "for label in range(1,17):\n",
    "    data = dataset[dataset.iloc[:,0] == label]\n",
    "    for index, row in data.iterrows():\n",
    "        if (len(dataset_x) <= (26*label)):\n",
    "            dataset_x.append(np.nan_to_num(dataset.iloc[index,1:].values))\n",
    "            dataset_y.append(dataset.iloc[index,0:1].values)\n",
    "        else:\n",
    "            break\n",
    "\"\"\"\n",
    "dataset_x = []\n",
    "dataset_y = []\n",
    "\n",
    "count = np.zeros(17)\n",
    "\n",
    "for label in range(1,17):\n",
    "    data = dataset[dataset.iloc[:,0] == label]\n",
    "    for index, row in data.iterrows():\n",
    "        #if (len(dataset_x) <= (210*label)):\n",
    "        dataset_x.append(np.nan_to_num(dataset.iloc[index,1:].values))\n",
    "        dataset_y.append(dataset.iloc[index,0:1].values)\n",
    "        count[label]+=1\n",
    "    \n",
    "dataset_x = np.array(dataset_x)\n",
    "dataset_y = np.array(dataset_y)"
   ]
  },
  {
   "cell_type": "code",
   "execution_count": 140,
   "metadata": {},
   "outputs": [
    {
     "data": {
      "text/plain": [
       "((29848, 132), (29848, 1))"
      ]
     },
     "execution_count": 140,
     "metadata": {},
     "output_type": "execute_result"
    }
   ],
   "source": [
    "dataset_x.shape,dataset_y.shape"
   ]
  },
  {
   "cell_type": "code",
   "execution_count": 141,
   "metadata": {},
   "outputs": [
    {
     "name": "stdout",
     "output_type": "stream",
     "text": [
      "840.0\n"
     ]
    }
   ],
   "source": [
    "print(min(count[1:]))"
   ]
  },
  {
   "cell_type": "code",
   "execution_count": 142,
   "metadata": {},
   "outputs": [],
   "source": [
    "#Normalice X values\n",
    "mean = np.sum(dataset_x,axis=0,keepdims=True)/dataset_x.shape[0]\n",
    "normal_variance = np.sum(dataset_x**2,axis=0,keepdims=True)/dataset_x.shape[0]\n",
    "dataset_x_normalice = dataset_x-mean\n",
    "dataset_x_normalice = dataset_x_normalice/np.sqrt(normal_variance+1e-8)"
   ]
  },
  {
   "cell_type": "code",
   "execution_count": 143,
   "metadata": {},
   "outputs": [
    {
     "data": {
      "text/plain": [
       "array([1, 1, 1, 1, 1, 1, 1, 1, 1, 1, 1, 1, 1, 1, 1, 1, 1, 1, 1, 1])"
      ]
     },
     "execution_count": 143,
     "metadata": {},
     "output_type": "execute_result"
    }
   ],
   "source": [
    "dataset_y_reshape = dataset_y.reshape(1,dataset_y.shape[0]).flatten().astype(int)\n",
    "dataset_y_reshape[20:40]"
   ]
  },
  {
   "cell_type": "code",
   "execution_count": 144,
   "metadata": {},
   "outputs": [
    {
     "name": "stdout",
     "output_type": "stream",
     "text": [
      "1\n",
      "(29848,)\n"
     ]
    }
   ],
   "source": [
    "#Create Y binary class vector\n",
    "y_train_vector = dataset_y_reshape\n",
    "print(y_train_vector[0])\n",
    "print(y_train_vector.shape)"
   ]
  },
  {
   "cell_type": "code",
   "execution_count": 145,
   "metadata": {},
   "outputs": [],
   "source": [
    "#Dividimos en train y test\n",
    "#kf = KFold(n_splits=4)\n",
    "sss =  StratifiedShuffleSplit(n_splits=4,test_size=0.2, random_state=1)\n",
    "#kf.get_n_splits(dataset_x_normalice)\n",
    "sss.get_n_splits(dataset_x_normalice, y_train_vector)\n",
    "index_kfol = []\n",
    "for train_index, test_index in sss.split(dataset_x_normalice, y_train_vector):\n",
    "    index_kfol.append([train_index,test_index])"
   ]
  },
  {
   "cell_type": "code",
   "execution_count": 203,
   "metadata": {},
   "outputs": [],
   "source": [
    "def test_configuration(lr_v = [0.001], beta_1_v=[0.9],beta_2_v=[0.999] ,epochs_n = [10], batch_size_n = [32], input_shape_n = 132):\n",
    "    \n",
    "    for batch in batch_size_n:\n",
    "        for epoch in epochs_n:\n",
    "            for beta2 in beta_2_v:\n",
    "                for beta1 in beta_1_v:\n",
    "                    for lr in lr_v:\n",
    "                        \n",
    "                        #Dividimos en train y test\n",
    "                        sss =  StratifiedShuffleSplit(n_splits=4,test_size=0.2, random_state=1)\n",
    "                        #kf.get_n_splits(dataset_x_normalice)\n",
    "                        sss.get_n_splits(dataset_x_normalice, y_train_vector)\n",
    "                        index_kfol = []\n",
    "                        for train_index, test_index in sss.split(dataset_x_normalice, y_train_vector):\n",
    "                            index_kfol.append([train_index,test_index])\n",
    "                        \n",
    "                        #For save accuracies\n",
    "                        results = {}\n",
    "                        \n",
    "                        # Create Model\n",
    "                        model = Sequential([\n",
    "                            Dense(128, activation='relu', input_shape=(input_shape_n,)),\n",
    "                            Dense(64, activation='relu'),\n",
    "                            Dense(32, activation='relu'),\n",
    "                            Dense(16, activation='softmax'),\n",
    "                        ])\n",
    "\n",
    "                        #Compile Model\n",
    "                        model.compile(\n",
    "                          optimizer=Adam(learning_rate=lr, beta_1=beta1, beta_2=beta2, amsgrad=False),\n",
    "                          loss='categorical_crossentropy',\n",
    "                          metrics=['accuracy'],\n",
    "                        )\n",
    "                        \n",
    "                        Wsave = model.get_weights()\n",
    "\n",
    "                        for g in range(4):\n",
    "\n",
    "                            model.set_weights(Wsave)\n",
    "\n",
    "                            #Get K-fold group \n",
    "                            train_index = index_kfol[g][0]\n",
    "                            test_index = index_kfol[g][1]\n",
    "\n",
    "                            x_train = dataset_x_normalice[train_index]\n",
    "                            y_train = y_train_vector[train_index]\n",
    "                            x_test = dataset_x_normalice[test_index]\n",
    "                            y_test = y_train_vector[test_index]  \n",
    "\n",
    "                            history = model.fit(\n",
    "                              x_train, # training data\n",
    "                              to_categorical(y_train-1), # training targets\n",
    "                              epochs=epoch,\n",
    "                              batch_size=batch,\n",
    "                              verbose=0\n",
    "                            )\n",
    "\n",
    "                            results[str(g)+\"train\"] = history.history['accuracy'][-1]\n",
    "\n",
    "                            output = model.evaluate(x_test,to_categorical(y_test-1))\n",
    "\n",
    "                            results[str(g)+\"test\"] = output[1]\n",
    "                            \n",
    "                        #Print Results\n",
    "                        print(\"______________________Configuration______________________\")\n",
    "                        print(\"LR:\"+str(lr)+\"- Beta_1:\"+str(beta1)+\"- Beta_2:\"+str(beta2))\n",
    "                        print(\"Epochs:\"+str(epoch)+\"- Bach:\"+str(batch)+\"- Beta_2:\"+str(beta2))\n",
    "                        print(\"_________________________________________________________\")\n",
    "                        prom_train = []\n",
    "                        prom_test = []\n",
    "                        for g in range(4):\n",
    "                            print(\"Group:\"+str(g))\n",
    "                            print(\"Train:\"+str(results[str(g)+\"train\"]*100)+\"% -Test:\"+str(results[str(g)+\"test\"]*100)+\"%\")\n",
    "                            prom_train.append(results[str(g)+\"train\"]*100)\n",
    "                            prom_test.append(results[str(g)+\"test\"]*100)\n",
    "\n",
    "                        print(\"Promedio Train\")\n",
    "                        print(sum(prom_train)/4)\n",
    "                        print(\"Promedio Test\")\n",
    "                        print(sum(prom_test)/4)\n",
    "                        print(\"_______________________ENDTEST_________________________\")                  \n",
    "                        "
   ]
  },
  {
   "cell_type": "code",
   "execution_count": null,
   "metadata": {},
   "outputs": [
    {
     "name": "stdout",
     "output_type": "stream",
     "text": [
      "5970/5970 [==============================] - 0s 13us/step\n",
      "5970/5970 [==============================] - 0s 10us/step\n",
      "5970/5970 [==============================] - 0s 10us/step\n"
     ]
    }
   ],
   "source": [
    "test_configuration(lr_v=[0.1,0.01,0.001,0.0001])"
   ]
  },
  {
   "cell_type": "code",
   "execution_count": 196,
   "metadata": {},
   "outputs": [],
   "source": [
    "#Parameters and hyperparameters\n",
    "input_shape_n = 132\n",
    "epochs_n = 20\n",
    "batch_size_n = 64"
   ]
  },
  {
   "cell_type": "code",
   "execution_count": 197,
   "metadata": {},
   "outputs": [],
   "source": [
    "#For save accuracies\n",
    "results = {}"
   ]
  },
  {
   "cell_type": "code",
   "execution_count": 198,
   "metadata": {},
   "outputs": [],
   "source": [
    "# Create Model\n",
    "model = Sequential([\n",
    "    Dense(128, activation='relu', input_shape=(input_shape_n,)),\n",
    "    Dense(64, activation='relu'),\n",
    "    Dense(32, activation='relu'),\n",
    "    Dense(16, activation='softmax'),\n",
    "])\n",
    "\n",
    "#Compile Model\n",
    "model.compile(\n",
    "  optimizer=Adam(learning_rate=0.001, beta_1=0.9, beta_2=0.999, amsgrad=False),\n",
    "  loss='categorical_crossentropy',\n",
    "  metrics=['accuracy'],\n",
    ")"
   ]
  },
  {
   "cell_type": "code",
   "execution_count": 199,
   "metadata": {},
   "outputs": [
    {
     "name": "stdout",
     "output_type": "stream",
     "text": [
      "Epoch 1/20\n",
      "23878/23878 [==============================] - 0s 16us/step - loss: 0.8120 - accuracy: 0.7781\n",
      "Epoch 2/20\n",
      "23878/23878 [==============================] - 0s 13us/step - loss: 0.3254 - accuracy: 0.9058\n",
      "Epoch 3/20\n",
      "23878/23878 [==============================] - 0s 13us/step - loss: 0.2566 - accuracy: 0.9221\n",
      "Epoch 4/20\n",
      "23878/23878 [==============================] - 0s 13us/step - loss: 0.2169 - accuracy: 0.9319\n",
      "Epoch 5/20\n",
      "23878/23878 [==============================] - 0s 13us/step - loss: 0.1938 - accuracy: 0.9392\n",
      "Epoch 6/20\n",
      "23878/23878 [==============================] - 0s 13us/step - loss: 0.1659 - accuracy: 0.9468\n",
      "Epoch 7/20\n",
      "23878/23878 [==============================] - 0s 13us/step - loss: 0.1515 - accuracy: 0.9507\n",
      "Epoch 8/20\n",
      "23878/23878 [==============================] - 0s 13us/step - loss: 0.1417 - accuracy: 0.9535\n",
      "Epoch 9/20\n",
      "23878/23878 [==============================] - 0s 13us/step - loss: 0.1259 - accuracy: 0.9584\n",
      "Epoch 10/20\n",
      "23878/23878 [==============================] - 0s 13us/step - loss: 0.1156 - accuracy: 0.9611\n",
      "Epoch 11/20\n",
      "23878/23878 [==============================] - 0s 13us/step - loss: 0.1083 - accuracy: 0.9647\n",
      "Epoch 12/20\n",
      "23878/23878 [==============================] - 0s 13us/step - loss: 0.1039 - accuracy: 0.9644\n",
      "Epoch 13/20\n",
      "23878/23878 [==============================] - 0s 13us/step - loss: 0.0969 - accuracy: 0.9666\n",
      "Epoch 14/20\n",
      "23878/23878 [==============================] - 0s 13us/step - loss: 0.0907 - accuracy: 0.9687\n",
      "Epoch 15/20\n",
      "23878/23878 [==============================] - 0s 13us/step - loss: 0.0887 - accuracy: 0.9709\n",
      "Epoch 16/20\n",
      "23878/23878 [==============================] - 0s 13us/step - loss: 0.0816 - accuracy: 0.9716\n",
      "Epoch 17/20\n",
      "23878/23878 [==============================] - 0s 13us/step - loss: 0.0765 - accuracy: 0.9750\n",
      "Epoch 18/20\n",
      "23878/23878 [==============================] - 0s 13us/step - loss: 0.0834 - accuracy: 0.9727\n",
      "Epoch 19/20\n",
      "23878/23878 [==============================] - 0s 13us/step - loss: 0.0731 - accuracy: 0.9760\n",
      "Epoch 20/20\n",
      "23878/23878 [==============================] - 0s 13us/step - loss: 0.0617 - accuracy: 0.9792\n",
      "5970/5970 [==============================] - 0s 12us/step\n",
      "Epoch 1/20\n",
      "23878/23878 [==============================] - 0s 13us/step - loss: 0.8007 - accuracy: 0.7724\n",
      "Epoch 2/20\n",
      "23878/23878 [==============================] - 0s 13us/step - loss: 0.3194 - accuracy: 0.9055\n",
      "Epoch 3/20\n",
      "23878/23878 [==============================] - 0s 13us/step - loss: 0.2555 - accuracy: 0.9208\n",
      "Epoch 4/20\n",
      "23878/23878 [==============================] - 0s 13us/step - loss: 0.2103 - accuracy: 0.9339\n",
      "Epoch 5/20\n",
      "23878/23878 [==============================] - 0s 13us/step - loss: 0.1845 - accuracy: 0.9410\n",
      "Epoch 6/20\n",
      "23878/23878 [==============================] - 0s 14us/step - loss: 0.1683 - accuracy: 0.9457\n",
      "Epoch 7/20\n",
      "23878/23878 [==============================] - 0s 13us/step - loss: 0.1481 - accuracy: 0.9518\n",
      "Epoch 8/20\n",
      "23878/23878 [==============================] - 0s 13us/step - loss: 0.1371 - accuracy: 0.9544\n",
      "Epoch 9/20\n",
      "23878/23878 [==============================] - 0s 13us/step - loss: 0.1256 - accuracy: 0.9593\n",
      "Epoch 10/20\n",
      "23878/23878 [==============================] - 0s 13us/step - loss: 0.1167 - accuracy: 0.9608\n",
      "Epoch 11/20\n",
      "23878/23878 [==============================] - 0s 13us/step - loss: 0.1073 - accuracy: 0.9637\n",
      "Epoch 12/20\n",
      "23878/23878 [==============================] - 0s 13us/step - loss: 0.0974 - accuracy: 0.9680\n",
      "Epoch 13/20\n",
      "23878/23878 [==============================] - 0s 13us/step - loss: 0.1042 - accuracy: 0.9649\n",
      "Epoch 14/20\n",
      "23878/23878 [==============================] - 0s 13us/step - loss: 0.0899 - accuracy: 0.9691\n",
      "Epoch 15/20\n",
      "23878/23878 [==============================] - 0s 13us/step - loss: 0.0817 - accuracy: 0.9725\n",
      "Epoch 16/20\n",
      "23878/23878 [==============================] - 0s 13us/step - loss: 0.0816 - accuracy: 0.9716\n",
      "Epoch 17/20\n",
      "23878/23878 [==============================] - 0s 13us/step - loss: 0.0758 - accuracy: 0.9743\n",
      "Epoch 18/20\n",
      "23878/23878 [==============================] - 0s 13us/step - loss: 0.0792 - accuracy: 0.9752\n",
      "Epoch 19/20\n",
      "23878/23878 [==============================] - 0s 13us/step - loss: 0.0766 - accuracy: 0.9748\n",
      "Epoch 20/20\n",
      "23878/23878 [==============================] - 0s 13us/step - loss: 0.0635 - accuracy: 0.9777\n",
      "5970/5970 [==============================] - 0s 9us/step\n",
      "Epoch 1/20\n",
      "23878/23878 [==============================] - 0s 13us/step - loss: 0.7602 - accuracy: 0.7855\n",
      "Epoch 2/20\n",
      "23878/23878 [==============================] - 0s 13us/step - loss: 0.3110 - accuracy: 0.9083\n",
      "Epoch 3/20\n",
      "23878/23878 [==============================] - 0s 13us/step - loss: 0.2473 - accuracy: 0.9241\n",
      "Epoch 4/20\n",
      "23878/23878 [==============================] - 0s 13us/step - loss: 0.2082 - accuracy: 0.9351\n",
      "Epoch 5/20\n",
      "23878/23878 [==============================] - 0s 13us/step - loss: 0.1897 - accuracy: 0.9392\n",
      "Epoch 6/20\n",
      "23878/23878 [==============================] - 0s 13us/step - loss: 0.1663 - accuracy: 0.9469\n",
      "Epoch 7/20\n",
      "23878/23878 [==============================] - 0s 13us/step - loss: 0.1570 - accuracy: 0.9475\n",
      "Epoch 8/20\n",
      "23878/23878 [==============================] - 0s 13us/step - loss: 0.1386 - accuracy: 0.9551\n",
      "Epoch 9/20\n",
      "23878/23878 [==============================] - 0s 13us/step - loss: 0.1231 - accuracy: 0.9598\n",
      "Epoch 10/20\n",
      "23878/23878 [==============================] - 0s 13us/step - loss: 0.1200 - accuracy: 0.9608\n",
      "Epoch 11/20\n",
      "23878/23878 [==============================] - 0s 13us/step - loss: 0.1083 - accuracy: 0.9644\n",
      "Epoch 12/20\n",
      "23878/23878 [==============================] - 0s 13us/step - loss: 0.1066 - accuracy: 0.9640\n",
      "Epoch 13/20\n",
      "23878/23878 [==============================] - 0s 13us/step - loss: 0.0901 - accuracy: 0.9696\n",
      "Epoch 14/20\n",
      "23878/23878 [==============================] - 0s 13us/step - loss: 0.0885 - accuracy: 0.9703\n",
      "Epoch 15/20\n",
      "23878/23878 [==============================] - 0s 13us/step - loss: 0.0853 - accuracy: 0.9696\n",
      "Epoch 16/20\n",
      "23878/23878 [==============================] - 0s 13us/step - loss: 0.0818 - accuracy: 0.9723\n",
      "Epoch 17/20\n",
      "23878/23878 [==============================] - 0s 13us/step - loss: 0.0758 - accuracy: 0.9747\n",
      "Epoch 18/20\n",
      "23878/23878 [==============================] - 0s 13us/step - loss: 0.0714 - accuracy: 0.9755\n",
      "Epoch 19/20\n",
      "23878/23878 [==============================] - 0s 13us/step - loss: 0.0690 - accuracy: 0.9778\n",
      "Epoch 20/20\n",
      "23878/23878 [==============================] - 0s 13us/step - loss: 0.0679 - accuracy: 0.9762\n",
      "5970/5970 [==============================] - 0s 10us/step\n",
      "Epoch 1/20\n",
      "23878/23878 [==============================] - 0s 13us/step - loss: 0.7961 - accuracy: 0.7812\n",
      "Epoch 2/20\n",
      "23878/23878 [==============================] - 0s 13us/step - loss: 0.3147 - accuracy: 0.9093\n",
      "Epoch 3/20\n",
      "23878/23878 [==============================] - 0s 13us/step - loss: 0.2515 - accuracy: 0.9230\n",
      "Epoch 4/20\n",
      "23878/23878 [==============================] - 0s 13us/step - loss: 0.2111 - accuracy: 0.9342\n",
      "Epoch 5/20\n",
      "23878/23878 [==============================] - 0s 13us/step - loss: 0.1895 - accuracy: 0.9403\n",
      "Epoch 6/20\n",
      "23878/23878 [==============================] - 0s 13us/step - loss: 0.1674 - accuracy: 0.9456\n",
      "Epoch 7/20\n",
      "23878/23878 [==============================] - 0s 13us/step - loss: 0.1500 - accuracy: 0.9501\n",
      "Epoch 8/20\n",
      "23878/23878 [==============================] - 0s 14us/step - loss: 0.1376 - accuracy: 0.9554\n",
      "Epoch 9/20\n",
      "23878/23878 [==============================] - 0s 13us/step - loss: 0.1358 - accuracy: 0.9572\n",
      "Epoch 10/20\n",
      "23878/23878 [==============================] - 0s 13us/step - loss: 0.1190 - accuracy: 0.9590\n",
      "Epoch 11/20\n",
      "23878/23878 [==============================] - 0s 13us/step - loss: 0.1100 - accuracy: 0.9619\n",
      "Epoch 12/20\n",
      "23878/23878 [==============================] - 0s 13us/step - loss: 0.1065 - accuracy: 0.9645\n",
      "Epoch 13/20\n",
      "23878/23878 [==============================] - 0s 13us/step - loss: 0.0988 - accuracy: 0.9661\n",
      "Epoch 14/20\n",
      "23878/23878 [==============================] - 0s 13us/step - loss: 0.0939 - accuracy: 0.9685\n",
      "Epoch 15/20\n",
      "23878/23878 [==============================] - 0s 13us/step - loss: 0.0854 - accuracy: 0.9709\n",
      "Epoch 16/20\n",
      "23878/23878 [==============================] - 0s 13us/step - loss: 0.0826 - accuracy: 0.9710\n"
     ]
    },
    {
     "name": "stdout",
     "output_type": "stream",
     "text": [
      "Epoch 17/20\n",
      "23878/23878 [==============================] - 0s 13us/step - loss: 0.0810 - accuracy: 0.9723\n",
      "Epoch 18/20\n",
      "23878/23878 [==============================] - 0s 13us/step - loss: 0.0769 - accuracy: 0.9726\n",
      "Epoch 19/20\n",
      "23878/23878 [==============================] - 0s 13us/step - loss: 0.0772 - accuracy: 0.9741\n",
      "Epoch 20/20\n",
      "23878/23878 [==============================] - 0s 13us/step - loss: 0.0739 - accuracy: 0.9763\n",
      "5970/5970 [==============================] - 0s 10us/step\n"
     ]
    }
   ],
   "source": [
    "Wsave = model.get_weights()\n",
    "\n",
    "for g in range(4):\n",
    "    \n",
    "    model.set_weights(Wsave)\n",
    "    \n",
    "    #Get K-fold group \n",
    "    train_index = index_kfol[g][0]\n",
    "    test_index = index_kfol[g][1]\n",
    "\n",
    "    x_train = dataset_x_normalice[train_index]\n",
    "    y_train = y_train_vector[train_index]\n",
    "    x_test = dataset_x_normalice[test_index]\n",
    "    y_test = y_train_vector[test_index]  \n",
    "        \n",
    "    history = model.fit(\n",
    "      x_train, # training data\n",
    "      to_categorical(y_train-1), # training targets\n",
    "      epochs=epochs_n,\n",
    "      batch_size=batch_size_n\n",
    "    )\n",
    "    \n",
    "    results[str(g)+\"train\"] = history.history['accuracy'][-1]\n",
    "    \n",
    "    output = model.evaluate(x_test,to_categorical(y_test-1))\n",
    "    \n",
    "    results[str(g)+\"test\"] = output[1]    "
   ]
  },
  {
   "cell_type": "code",
   "execution_count": 200,
   "metadata": {},
   "outputs": [
    {
     "name": "stdout",
     "output_type": "stream",
     "text": [
      "Group:0\n",
      "Train:97.91858792304993% -Test:94.38861012458801%\n",
      "Group:1\n",
      "Train:97.77200818061829% -Test:95.1256275177002%\n",
      "Group:2\n",
      "Train:97.6170539855957% -Test:95.56114077568054%\n",
      "Group:3\n",
      "Train:97.62961864471436% -Test:95.46063542366028%\n",
      "Promedio Train\n",
      "97.73431718349457\n",
      "Promedio Test\n",
      "95.13400346040726\n"
     ]
    }
   ],
   "source": [
    "#Print Results\n",
    "prom_train = []\n",
    "prom_test = []\n",
    "for g in range(4):\n",
    "    print(\"Group:\"+str(g))\n",
    "    print(\"Train:\"+str(results[str(g)+\"train\"]*100)+\"% -Test:\"+str(results[str(g)+\"test\"]*100)+\"%\")\n",
    "    prom_train.append(results[str(g)+\"train\"]*100)\n",
    "    prom_test.append(results[str(g)+\"test\"]*100)\n",
    "\n",
    "print(\"Promedio Train\")\n",
    "print(sum(prom_train)/4)\n",
    "print(\"Promedio Test\")\n",
    "print(sum(prom_test)/4)"
   ]
  },
  {
   "cell_type": "code",
   "execution_count": null,
   "metadata": {},
   "outputs": [],
   "source": []
  }
 ],
 "metadata": {
  "kernelspec": {
   "display_name": "Python 3",
   "language": "python",
   "name": "python3"
  },
  "language_info": {
   "codemirror_mode": {
    "name": "ipython",
    "version": 3
   },
   "file_extension": ".py",
   "mimetype": "text/x-python",
   "name": "python",
   "nbconvert_exporter": "python",
   "pygments_lexer": "ipython3",
   "version": "3.7.4"
  }
 },
 "nbformat": 4,
 "nbformat_minor": 2
}
