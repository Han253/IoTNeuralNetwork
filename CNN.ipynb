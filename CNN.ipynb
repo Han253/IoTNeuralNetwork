{
  "nbformat": 4,
  "nbformat_minor": 0,
  "metadata": {
    "colab": {
      "name": "CNN.ipynb",
      "provenance": []
    },
    "kernelspec": {
      "name": "python3",
      "display_name": "Python 3"
    }
  },
  "cells": [
    {
      "cell_type": "code",
      "metadata": {
        "id": "Hjfq2ETSyRRZ",
        "colab_type": "code",
        "outputId": "5bd0354c-1bd6-45df-aed3-dcff617c627e",
        "colab": {
          "base_uri": "https://localhost:8080/",
          "height": 80
        }
      },
      "source": [
        "# Import Libraries\n",
        "import numpy as np\n",
        "import pandas as pd\n",
        "from keras.optimizers import *\n",
        "from keras.models import Sequential\n",
        "from keras.layers import Dense\n",
        "from keras.utils import to_categorical\n",
        "from sklearn.model_selection import StratifiedShuffleSplit\n",
        "from IPython.display import HTML, display\n",
        "import tabulate\n",
        "from keras.layers import Dense,Conv1D,Dropout,MaxPooling1D,Flatten,Reshape\n",
        "from google.colab import drive"
      ],
      "execution_count": 3,
      "outputs": [
        {
          "output_type": "stream",
          "text": [
            "Using TensorFlow backend.\n"
          ],
          "name": "stderr"
        },
        {
          "output_type": "display_data",
          "data": {
            "text/html": [
              "<p style=\"color: red;\">\n",
              "The default version of TensorFlow in Colab will soon switch to TensorFlow 2.x.<br>\n",
              "We recommend you <a href=\"https://www.tensorflow.org/guide/migrate\" target=\"_blank\">upgrade</a> now \n",
              "or ensure your notebook will continue to use TensorFlow 1.x via the <code>%tensorflow_version 1.x</code> magic:\n",
              "<a href=\"https://colab.research.google.com/notebooks/tensorflow_version.ipynb\" target=\"_blank\">more info</a>.</p>\n"
            ],
            "text/plain": [
              "<IPython.core.display.HTML object>"
            ]
          },
          "metadata": {
            "tags": []
          }
        }
      ]
    },
    {
      "cell_type": "code",
      "metadata": {
        "id": "0ngm7Nd2yU7p",
        "colab_type": "code",
        "outputId": "32cfdfcc-ec8f-4e8d-c4e3-76ebde2039db",
        "colab": {
          "base_uri": "https://localhost:8080/",
          "height": 122
        }
      },
      "source": [
        "# This will prompt for authorization.\n",
        "drive.mount('/content/drive')"
      ],
      "execution_count": 4,
      "outputs": [
        {
          "output_type": "stream",
          "text": [
            "Go to this URL in a browser: https://accounts.google.com/o/oauth2/auth?client_id=947318989803-6bn6qk8qdgf4n4g3pfee6491hc0brc4i.apps.googleusercontent.com&redirect_uri=urn%3aietf%3awg%3aoauth%3a2.0%3aoob&response_type=code&scope=email%20https%3a%2f%2fwww.googleapis.com%2fauth%2fdocs.test%20https%3a%2f%2fwww.googleapis.com%2fauth%2fdrive%20https%3a%2f%2fwww.googleapis.com%2fauth%2fdrive.photos.readonly%20https%3a%2f%2fwww.googleapis.com%2fauth%2fpeopleapi.readonly\n",
            "\n",
            "Enter your authorization code:\n",
            "··········\n",
            "Mounted at /content/drive\n"
          ],
          "name": "stdout"
        }
      ]
    },
    {
      "cell_type": "code",
      "metadata": {
        "id": "yVkV0osiyWiQ",
        "colab_type": "code",
        "outputId": "51597114-28ff-463f-d56f-39c5c84233dd",
        "colab": {
          "base_uri": "https://localhost:8080/",
          "height": 1000
        }
      },
      "source": [
        "!ls \"/content/drive/My Drive\""
      ],
      "execution_count": 5,
      "outputs": [
        {
          "output_type": "stream",
          "text": [
            " 170145._1996_Parte4.pdf\n",
            "'1 Congreso de Ingeniería de Sistemas e Informática, Bucaramanga.docx'\n",
            " 2015-03-27-EISI-16-18-25.JPG\n",
            " 20160824_151439.jpg\n",
            " 20160824_152302.jpg\n",
            " 20161213_204702.jpg\n",
            " 20170110_201228.jpg\n",
            " 20170301_074401.jpg\n",
            " 20170301_074408.jpg\n",
            " 20170319_171357.jpg\n",
            " 29_Demo.apk\n",
            " acta.pdf\n",
            "'Acuerdo 24'\n",
            " Amor\n",
            "'Analisis numérico'\n",
            "'Anthony Robbins - Despertando al gigante interior-FREELIBROS.COM.pdf'\n",
            " app-release.apk\n",
            "'App Web Experimental'\n",
            " Artículo\n",
            "'Artículo Traducido.gdoc'\n",
            " audio-acta.zip\n",
            "'Audios Tutoriales'\n",
            " base.backup\n",
            " baseheansesoft.backup\n",
            "'Bases de datos'\n",
            " Cardales_1N_Final.xlsx\n",
            "'Carpeta compartida con Amorcitu'\n",
            "'Carta de Motivación.gdoc'\n",
            " Casabe_1060_Final_SS.xlsx\n",
            " Casabe_1069_Final_SS_2.xlsx\n",
            "'CertificaciónLicencia InHousev2.pdf'\n",
            " Certificación.pdf\n",
            "'Cine economía y sociedad'\n",
            " clase12032019.gdoc\n",
            "'Colab Notebooks'\n",
            "'Compartida con Jeyson'\n",
            "'Compartido con Miguel'\n",
            "'Compartido Hermana'\n",
            " com.wolfram.android.alpha-1.3.0.4590401-paid-8cbf-www.apkhere.com.apk\n",
            "'CONISI 2016'\n",
            "'CONISIC 2016 - Cronograma.gsheet'\n",
            "'Copia de Reflexión.gdoc'\n",
            " Dashboard_preview.PNG\n",
            " Datos.json\n",
            " Demo.apk\n",
            " depositation.backup\n",
            "'Dirección empresarial'\n",
            " Documentacion.pdf\n",
            "'Documento sin título (1).gdoc'\n",
            "'Documento sin título (2).gdoc'\n",
            "'Documento sin título (3).gdoc'\n",
            "'Documento sin título (4).gdoc'\n",
            "'Documento sin título (5).gdoc'\n",
            "'Documento sin título (6).gdoc'\n",
            "'Documento sin título.gdoc'\n",
            "'Documentos Publicos'\n",
            "'DotA v6.81b AI 1.2.0 EN.w3x'\n",
            " DTV95405058.pdf\n",
            "'E&E'\n",
            " electivas_doctorado_ciencias_computacion.gdoc\n",
            "'Electricidad y Electronica.rar'\n",
            " escuela.backup\n",
            "'Esto no es algo interesante'\n",
            " Fiber_dataset\n",
            " Fisica-III.pdf\n",
            "'Formulario Final Pruebas de Usuario.gform'\n",
            "'Formulario Perfiles Evaluador.gform'\n",
            "'Formulario sin título (1).gform'\n",
            "'Formulario sin título (2).gform'\n",
            "'Formulario sin título (3).gform'\n",
            "'Formulario sin título (4).gform'\n",
            "'Formulario sin título (5).gform'\n",
            "'Formulario sin título (6).gform'\n",
            "'Formulario sin título (7).gform'\n",
            "'Formulario sin título (8).gform'\n",
            "'Formulario sin título.gform'\n",
            "'Formulario sin título (respuestas) (1).gsheet'\n",
            "'Formulario sin título (respuestas) (2).gsheet'\n",
            "'Formulario sin título (respuestas).gsheet'\n",
            " Fotos\n",
            "'Fotos Grado'\n",
            " Funciones\n",
            "'Futuro- Proyecto'\n",
            " Gonito\n",
            "'GTN-F-058 Formato para acuerdo de confidencialidad.gdoc'\n",
            "'GTN-F-085 Formato para la minuta de derechos patrimoniales de autor para personal Contratista de Ecopetrol_LMH.gdoc'\n",
            "'Hoja de cálculo sin título.gsheet'\n",
            "'Hoja de vida.doc'\n",
            "'Horario personal.xlsx'\n",
            "'Informe Final ED.gdoc'\n",
            "'Ingeniería Economica'\n",
            " Introducción.docx\n",
            "'Juegos gba'\n",
            "'Katerine_ Jaime.jpg'\n",
            " Keras_DNN\n",
            "'L8. Ondas Decimétricas.pdf'\n",
            "'Laboratorios - Hoja 1(2).pdf'\n",
            "'Listado de Temas sobres los cuales se podrían hacer tutoriales JH.gdoc'\n",
            " Luna.rar\n",
            "'Machine Learning'\n",
            "'Machine Learning.gdoc'\n",
            " Maestría\n",
            "'Mapa sin nombre.gmap'\n",
            "'Matematicas avanzadas para ingenieria 4th edicion solucionario.pdf'\n",
            "'Metroid Project'\n",
            " modelo_autoevaluacion_remington.pdf\n",
            "'Modelos de madurez.pdf'\n",
            "'Movimiento oscilatorio.pdf'\n",
            " msgstore.db.crypt12\n",
            "'NuevoDocumento 2017-08-06 - Página 1.pdf'\n",
            "'NuevoDocumento 2017-08-17_3.jpg'\n",
            "'NuevoDocumento 2017-08-17_4.jpg'\n",
            "'NuevoDocumento 2017-08-17_5.jpg'\n",
            "'NuevoDocumento 2017-08-17_6.jpg'\n",
            "'NuevoDocumento 2017-08-17 - Página 7.jpg'\n",
            " Ondas\n",
            "'pagina votaciones'\n",
            " Personal\n",
            "'Personal (1)'\n",
            "'Placa moto.gdoc'\n",
            "'Planes Ejemplo'\n",
            " Plantilla_GOLOSA-1.xlsx\n",
            " POO\n",
            "'Presentaciones - Vectores y valores propios.'\n",
            "'PRESENTACION Inducción 2016 - 1.pptx'\n",
            "'PRESENTACION Inducción 2016 - 1.pptx.gslides'\n",
            "'Programacion Orientada a Objetos'\n",
            "'PROPUESTA exposicion d1.gdoc'\n",
            "'Proyecto Agroindistrial'\n",
            "'Proyecto Aplicación de Prestamos'\n",
            "'Proyecto Convenio'\n",
            "'Proyecto De Grado'\n",
            " Proyectos\n",
            "'Proyecto software'\n",
            "'Proyecto walker'\n",
            " prueba\n",
            " Prueba\n",
            " Prueba.apk\n",
            " Publicaciones\n",
            " Regalo.mp4\n",
            " Resumen.docx\n",
            " Resumen.docx.gdoc\n",
            "'Reunión 9 Enero - acta 3.gdoc'\n",
            " ScreenShot_2017-11-09-155826.png\n",
            " sinergias300418.backup\n",
            " sinergias.backup\n",
            "'Sistemas de información'\n",
            "'Sistemas digitales'\n",
            "'Taller05 DecodiCodi.pdf'\n",
            " Talleres\n",
            " TIP\n",
            "'titulo de formulario.gform'\n",
            " Trigger_word_detection_v1a.html\n",
            " Trigger_word_detection_v1a.pdf\n",
            " Varios\n",
            "'Visualizacion Datos'\n",
            "'Vuforia learning '\n",
            " Walker.apk\n",
            " Walkermodificado.apk\n",
            " web\n",
            " Week_3_Course_2.zip\n",
            " Week4_Presentation.pdf\n"
          ],
          "name": "stdout"
        }
      ]
    },
    {
      "cell_type": "code",
      "metadata": {
        "id": "yQuZpOYxy-WL",
        "colab_type": "code",
        "colab": {}
      },
      "source": [
        "#Dataset\n",
        "dataset = pd.read_csv('/content/drive/My Drive/Keras_DNN/Dataset/data_windows_132.csv').iloc[:,1:]"
      ],
      "execution_count": 0,
      "outputs": []
    },
    {
      "cell_type": "code",
      "metadata": {
        "id": "GR-3f6YVy4qv",
        "colab_type": "code",
        "outputId": "64e91d05-3361-4db0-a232-262f59476b3f",
        "colab": {
          "base_uri": "https://localhost:8080/",
          "height": 34
        }
      },
      "source": [
        "dataset.shape"
      ],
      "execution_count": 7,
      "outputs": [
        {
          "output_type": "execute_result",
          "data": {
            "text/plain": [
              "(29848, 133)"
            ]
          },
          "metadata": {
            "tags": []
          },
          "execution_count": 7
        }
      ]
    },
    {
      "cell_type": "code",
      "metadata": {
        "id": "pGWuLxHcy7XX",
        "colab_type": "code",
        "colab": {}
      },
      "source": [
        "#Delete NAN values\n",
        "\"\"\"\n",
        "dataset_x = []\n",
        "dataset_y = []\n",
        "for label in range(1,17):\n",
        "    data = dataset[dataset.iloc[:,0] == label]\n",
        "    for index, row in data.iterrows():\n",
        "        if (len(dataset_x) <= (26*label)):\n",
        "            dataset_x.append(np.nan_to_num(dataset.iloc[index,1:].values))\n",
        "            dataset_y.append(dataset.iloc[index,0:1].values)\n",
        "        else:\n",
        "            break\n",
        "\"\"\"\n",
        "dataset_x = []\n",
        "dataset_y = []\n",
        "\n",
        "count = np.zeros(17)\n",
        "\n",
        "for label in range(1,17):\n",
        "    data = dataset[dataset.iloc[:,0] == label]\n",
        "    for index, row in data.iterrows():\n",
        "        if (len(dataset_x) <= (840*label)):\n",
        "          dataset_x.append(np.nan_to_num(dataset.iloc[index,1:].values))\n",
        "          dataset_y.append(dataset.iloc[index,0:1].values)\n",
        "          count[label]+=1\n",
        "    \n",
        "dataset_x = np.array(dataset_x)\n",
        "dataset_y = np.array(dataset_y)"
      ],
      "execution_count": 0,
      "outputs": []
    },
    {
      "cell_type": "code",
      "metadata": {
        "id": "AwIvI4IxzEP3",
        "colab_type": "code",
        "outputId": "504cac4f-c3c0-441b-9630-faaff8b532ca",
        "colab": {
          "base_uri": "https://localhost:8080/",
          "height": 34
        }
      },
      "source": [
        "dataset_x.shape,dataset_y.shape"
      ],
      "execution_count": 9,
      "outputs": [
        {
          "output_type": "execute_result",
          "data": {
            "text/plain": [
              "((13441, 132), (13441, 1))"
            ]
          },
          "metadata": {
            "tags": []
          },
          "execution_count": 9
        }
      ]
    },
    {
      "cell_type": "code",
      "metadata": {
        "id": "vWMOFzLwzGsw",
        "colab_type": "code",
        "outputId": "db5addfa-9ed7-4711-e9bc-4da2681ed12d",
        "colab": {
          "base_uri": "https://localhost:8080/",
          "height": 68
        }
      },
      "source": [
        "print(min(count[1:]))\n",
        "print(count[1:])"
      ],
      "execution_count": 10,
      "outputs": [
        {
          "output_type": "stream",
          "text": [
            "840.0\n",
            "[841. 840. 840. 840. 840. 840. 840. 840. 840. 840. 840. 840. 840. 840.\n",
            " 840. 840.]\n"
          ],
          "name": "stdout"
        }
      ]
    },
    {
      "cell_type": "code",
      "metadata": {
        "id": "boUWh5GozIAO",
        "colab_type": "code",
        "colab": {}
      },
      "source": [
        "#Normalice X values\n",
        "mean = np.sum(dataset_x,axis=0,keepdims=True)/dataset_x.shape[0]\n",
        "normal_variance = np.sum(dataset_x**2,axis=0,keepdims=True)/dataset_x.shape[0]\n",
        "dataset_x_normalice = dataset_x-mean\n",
        "dataset_x_normalice = dataset_x_normalice/np.sqrt(normal_variance+1e-8)"
      ],
      "execution_count": 0,
      "outputs": []
    },
    {
      "cell_type": "code",
      "metadata": {
        "id": "JQ2yf0QqzMAr",
        "colab_type": "code",
        "outputId": "70af7480-1c5e-42e4-b611-b148fc4da1fb",
        "colab": {
          "base_uri": "https://localhost:8080/",
          "height": 34
        }
      },
      "source": [
        "dataset_y_reshape = dataset_y.reshape(1,dataset_y.shape[0]).flatten().astype(int)\n",
        "dataset_y_reshape[20:40]"
      ],
      "execution_count": 12,
      "outputs": [
        {
          "output_type": "execute_result",
          "data": {
            "text/plain": [
              "array([1, 1, 1, 1, 1, 1, 1, 1, 1, 1, 1, 1, 1, 1, 1, 1, 1, 1, 1, 1])"
            ]
          },
          "metadata": {
            "tags": []
          },
          "execution_count": 12
        }
      ]
    },
    {
      "cell_type": "code",
      "metadata": {
        "id": "9d7i_goKzNR-",
        "colab_type": "code",
        "outputId": "ef12c782-d1c6-42f8-bee5-c936564bad9e",
        "colab": {
          "base_uri": "https://localhost:8080/",
          "height": 51
        }
      },
      "source": [
        "#Create Y binary class vector\n",
        "y_train_vector = dataset_y_reshape\n",
        "print(y_train_vector[0])\n",
        "print(y_train_vector.shape)"
      ],
      "execution_count": 13,
      "outputs": [
        {
          "output_type": "stream",
          "text": [
            "1\n",
            "(13441,)\n"
          ],
          "name": "stdout"
        }
      ]
    },
    {
      "cell_type": "code",
      "metadata": {
        "id": "etlI4C6YzONW",
        "colab_type": "code",
        "colab": {}
      },
      "source": [
        "#Dividimos en train y test\n",
        "#kf = KFold(n_splits=4)\n",
        "sss =  StratifiedShuffleSplit(n_splits=4,test_size=0.2, random_state=1)\n",
        "#kf.get_n_splits(dataset_x_normalice)\n",
        "sss.get_n_splits(dataset_x_normalice, y_train_vector)\n",
        "index_kfol = []\n",
        "for train_index, test_index in sss.split(dataset_x_normalice, y_train_vector):\n",
        "    index_kfol.append([train_index,test_index])"
      ],
      "execution_count": 0,
      "outputs": []
    },
    {
      "cell_type": "code",
      "metadata": {
        "id": "uZj1ZD55hF1H",
        "colab_type": "code",
        "colab": {
          "base_uri": "https://localhost:8080/",
          "height": 51
        },
        "outputId": "573cccad-e8cc-4d1e-ce0c-d3a7907dc9c9"
      },
      "source": [
        "train_index = index_kfol[0][0]\n",
        "test_index = index_kfol[0][1]\n",
        "\n",
        "print(train_index.shape)\n",
        "print(test_index.shape)"
      ],
      "execution_count": 19,
      "outputs": [
        {
          "output_type": "stream",
          "text": [
            "(10752,)\n",
            "(2689,)\n"
          ],
          "name": "stdout"
        }
      ]
    },
    {
      "cell_type": "code",
      "metadata": {
        "id": "XXUzP2BAzP-4",
        "colab_type": "code",
        "colab": {}
      },
      "source": [
        "def test_configuration(lr_v = [0.001], beta_1_v=[0.9],beta_2_v=[0.999] ,epochs_n = [10], batch_size_n = [32], input_shape_n = 132):\n",
        "    \n",
        "    configuration = 1\n",
        "    table = [[\"Config\",\"Train 1\",\"Test 1\",\"Train 2\",\"Test 2\",\"Train 3\",\"Test 3\",\"Train 4\",\"Test 4\",\"Train Prom\",\"Test Prom\"]]\n",
        "\n",
        "    \n",
        "    #Dividimos en train y test\n",
        "    sss =  StratifiedShuffleSplit(n_splits=4,test_size=0.2, random_state=1)\n",
        "    #kf.get_n_splits(dataset_x_normalice)\n",
        "    sss.get_n_splits(dataset_x_normalice, y_train_vector)\n",
        "    index_kfol = []\n",
        "    for train_index, test_index in sss.split(dataset_x_normalice, y_train_vector):\n",
        "      index_kfol.append([train_index,test_index])\n",
        "                        \n",
        "    #For save accuracies\n",
        "    results = {}\n",
        "                        \n",
        "    # Create Model\n",
        "    model = Sequential([\n",
        "                        Reshape((12, 11), input_shape=(132,)),\n",
        "                        Conv1D(filters=64, kernel_size=2, activation='relu', input_shape=(12,11)),\n",
        "                        Conv1D(filters=64, kernel_size=2, activation='relu'),\n",
        "                        Dropout(0.5),\n",
        "                        MaxPooling1D(pool_size=2),\n",
        "                        Flatten(),                    \n",
        "                        Dense(128, activation='relu'),\n",
        "                        Dense(32, activation='relu'),\n",
        "                        Dense(16, activation='softmax'),\n",
        "                    ])\n",
        "    \n",
        "    model.compile(\n",
        "                  optimizer=\"Adam\",\n",
        "                  loss='categorical_crossentropy',\n",
        "                  metrics=['accuracy'],\n",
        "                )\n",
        "                                              \n",
        "    Wsave = model.get_weights() \n",
        "\n",
        "    for batch in batch_size_n:\n",
        "        for epoch in epochs_n:\n",
        "            for beta2 in beta_2_v:\n",
        "                for beta1 in beta_1_v:\n",
        "                    for lr in lr_v:\n",
        "                        #Compile Model\n",
        "                        model.compile(\n",
        "                          optimizer=Adam(lr=lr, beta_1=beta1, beta_2=beta2, amsgrad=False),\n",
        "                          loss='categorical_crossentropy',\n",
        "                          metrics=['accuracy'],\n",
        "                        )              \n",
        "\n",
        "                        for g in range(4):\n",
        "\n",
        "                            model.set_weights(Wsave)\n",
        "\n",
        "                            #Get K-fold group \n",
        "                            train_index = index_kfol[g][0]\n",
        "                            test_index = index_kfol[g][1]\n",
        "\n",
        "                            x_train = dataset_x_normalice[train_index]\n",
        "                            y_train = y_train_vector[train_index]\n",
        "                            x_test = dataset_x_normalice[test_index]\n",
        "                            y_test = y_train_vector[test_index]  \n",
        "\n",
        "                            history = model.fit(\n",
        "                              x_train, # training data\n",
        "                              to_categorical(y_train-1), # training targets\n",
        "                              epochs=epoch,\n",
        "                              batch_size=batch,\n",
        "                              verbose=0\n",
        "                            )\n",
        "\n",
        "                            results[str(g)+\"train\"] = history.history['acc'][-1]\n",
        "\n",
        "                            output = model.evaluate(x_test,to_categorical(y_test-1))\n",
        "\n",
        "                            results[str(g)+\"test\"] = output[1]\n",
        "                            \n",
        "                        #Print Results\n",
        "                        print(\"______________________Configuration-\"+str(configuration)+\"______________________\")\n",
        "                        print(\"LR:\"+str(lr)+\"- Beta_1:\"+str(beta1)+\"- Beta_2:\"+str(beta2))\n",
        "                        print(\"Epochs:\"+str(epoch)+\"- Bach:\"+str(batch))\n",
        "                        print(\"_________________________________________________________\")\n",
        "                        \n",
        "                        prom_train = []\n",
        "                        prom_test = []\n",
        "                        for g in range(4):\n",
        "                            prom_train.append(results[str(g)+\"train\"]*100)\n",
        "                            prom_test.append(results[str(g)+\"test\"]*100)\n",
        "                        \n",
        "                        table.append([configuration,\n",
        "                                      \"%.2f\" % round(results[\"0train\"]*100,2),\"%.2f\" % round(results[\"0test\"]*100,2),\n",
        "                                      \"%.2f\" % round(results[\"1train\"]*100,2),\"%.2f\" % round(results[\"1test\"]*100,2),\n",
        "                                      \"%.2f\" % round(results[\"2train\"]*100,2),\"%.2f\" % round(results[\"2test\"]*100,2),\n",
        "                                      \"%.2f\" % round(results[\"3train\"]*100,2),\"%.2f\" % round(results[\"3test\"]*100,2),\n",
        "                                      \"%.2f\" % round(sum(prom_train)/4,2),\"%.2f\" % round(sum(prom_test)/4,2)])\n",
        "                        print(\"_______________________ENDTEST_________________________\")   \n",
        "                        configuration = configuration+1\n",
        "                        \n",
        "    display(HTML(tabulate.tabulate(table, tablefmt='html')))       "
      ],
      "execution_count": 0,
      "outputs": []
    },
    {
      "cell_type": "code",
      "metadata": {
        "id": "HXkWsZp1zWJg",
        "colab_type": "code",
        "outputId": "2c1f72b4-ec6c-48f1-d32e-b81c66133f7f",
        "colab": {
          "base_uri": "https://localhost:8080/",
          "height": 214
        }
      },
      "source": [
        "lr_t=[0.00094]\n",
        "beta_1_t = [0.9]\n",
        "beta_2_t = [0.999]\n",
        "epochs_t = [20]\n",
        "batch_size_t = [32]\n",
        "test_configuration(lr_v=lr_t,beta_1_v=beta_1_t,beta_2_v=beta_2_t,epochs_n = epochs_t,batch_size_n = batch_size_t)"
      ],
      "execution_count": 21,
      "outputs": [
        {
          "output_type": "stream",
          "text": [
            "2689/2689 [==============================] - 0s 76us/step\n",
            "2689/2689 [==============================] - 0s 38us/step\n",
            "2689/2689 [==============================] - 0s 42us/step\n",
            "2689/2689 [==============================] - 0s 44us/step\n",
            "______________________Configuration-1______________________\n",
            "LR:0.00094- Beta_1:0.9- Beta_2:0.999\n",
            "Epochs:20- Bach:32\n",
            "_________________________________________________________\n",
            "_______________________ENDTEST_________________________\n"
          ],
          "name": "stdout"
        },
        {
          "output_type": "display_data",
          "data": {
            "text/html": [
              "<table>\n",
              "<tbody>\n",
              "<tr><td>Config</td><td>Train 1</td><td>Test 1</td><td>Train 2</td><td>Test 2</td><td>Train 3</td><td>Test 3</td><td>Train 4</td><td>Test 4</td><td>Train Prom</td><td>Test Prom</td></tr>\n",
              "<tr><td>1     </td><td>97.25  </td><td>96.84 </td><td>97.45  </td><td>96.99 </td><td>97.49  </td><td>96.17 </td><td>97.48  </td><td>96.50 </td><td>97.42     </td><td>96.63    </td></tr>\n",
              "</tbody>\n",
              "</table>"
            ],
            "text/plain": [
              "<IPython.core.display.HTML object>"
            ]
          },
          "metadata": {
            "tags": []
          }
        }
      ]
    },
    {
      "cell_type": "code",
      "metadata": {
        "id": "BxHNBKjO0vJ_",
        "colab_type": "code",
        "colab": {}
      },
      "source": [
        ""
      ],
      "execution_count": 0,
      "outputs": []
    }
  ]
}