{
 "cells": [
  {
   "cell_type": "code",
   "execution_count": 2,
   "metadata": {},
   "outputs": [],
   "source": [
    "import numpy as np\n",
    "import pandas as pd\n",
    "import matplotlib as mp"
   ]
  },
  {
   "cell_type": "markdown",
   "metadata": {},
   "source": [
    "## Unir vectores de carácteristicas. \n",
    "\n",
    "Se unen los vectores de carácteristicas en un solo archivo Qqque va a ser la entrada de la red neuronal"
   ]
  },
  {
   "cell_type": "code",
   "execution_count": null,
   "metadata": {},
   "outputs": [],
   "source": [
    "#Create a unique dataset for 20 days\n",
    "days = ['16-09-23.csv','16-09-24.csv','16-09-25.csv','16-09-26.csv','16-09-27.csv','16-09-28.csv',\n",
    "        '16-09-29.csv','16-09-30.csv','16-10-01.csv','16-10-02.csv','16-10-03.csv','16-10-04.csv',\n",
    "        '16-10-05.csv','16-10-06.csv','16-10-07.csv','16-10-08.csv','16-10-09.csv','16-10-10.csv',\n",
    "        '16-10-11.csv','16-10-12.csv']\n",
    "\n",
    "data = []\n",
    "\n",
    "for day in days:\n",
    "    dataset_day = pd.read_csv('dataset/p-'+day).iloc[:,1:]\n",
    "    for row in dataset_day.values:\n",
    "        data.append(row)   "
   ]
  },
  {
   "cell_type": "code",
   "execution_count": 127,
   "metadata": {},
   "outputs": [],
   "source": [
    "data_array = np.array(data)"
   ]
  },
  {
   "cell_type": "markdown",
   "metadata": {},
   "source": [
    "## Se eliminan etiquetas que no aparecen\n",
    "\n",
    "Se eliminan las etiquetas de los dispositivos que no están en el dataset."
   ]
  },
  {
   "cell_type": "code",
   "execution_count": 139,
   "metadata": {},
   "outputs": [],
   "source": [
    "#Delete IoT devices labels that not appeared \n",
    "\"\"\"\n",
    "Labels that not appeard\n",
    "\n",
    "13,15,16\n",
    "so change the num labels\n",
    "\n",
    "14->13\n",
    "17->14\n",
    "18->15\n",
    "19->16\n",
    "20->17\n",
    "21->18\n",
    "\"\"\"\n",
    "for data in data_array:\n",
    "    if data[0] == 14:\n",
    "        data[0] = 13\n",
    "    if data[0] == 17:\n",
    "        data[0] = 14\n",
    "    if data[0] == 18:\n",
    "        data[0] = 15\n",
    "    if data[0] == 19:\n",
    "        data[0] = 16\n",
    "    if data[0] == 20:\n",
    "        data[0] = 17\n",
    "    if data[0] == 21:\n",
    "        data[0] = 18    "
   ]
  },
  {
   "cell_type": "code",
   "execution_count": 140,
   "metadata": {},
   "outputs": [],
   "source": [
    "dataset = pd.DataFrame(data_array)"
   ]
  },
  {
   "cell_type": "code",
   "execution_count": 145,
   "metadata": {},
   "outputs": [],
   "source": [
    "dataset.to_csv('dataset/data.csv')"
   ]
  }
 ],
 "metadata": {
  "kernelspec": {
   "display_name": "Python 3",
   "language": "python",
   "name": "python3"
  },
  "language_info": {
   "codemirror_mode": {
    "name": "ipython",
    "version": 3
   },
   "file_extension": ".py",
   "mimetype": "text/x-python",
   "name": "python",
   "nbconvert_exporter": "python",
   "pygments_lexer": "ipython3",
   "version": "3.7.4"
  }
 },
 "nbformat": 4,
 "nbformat_minor": 2
}
